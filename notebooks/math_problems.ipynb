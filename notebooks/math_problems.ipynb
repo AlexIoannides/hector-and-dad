{
 "cells": [
  {
   "attachments": {},
   "cell_type": "markdown",
   "metadata": {},
   "source": [
    "# Maths Problems"
   ]
  },
  {
   "attachments": {},
   "cell_type": "markdown",
   "metadata": {},
   "source": [
    "## Algorithms for Finding the Square Root of Two\n",
    "\n",
    "Attempt number one: searching!"
   ]
  },
  {
   "cell_type": "code",
   "execution_count": 1,
   "metadata": {},
   "outputs": [
    {
     "data": {
      "text/plain": [
       "True"
      ]
     },
     "execution_count": 1,
     "metadata": {},
     "output_type": "execute_result"
    }
   ],
   "source": [
    "def square(x):\n",
    "    return x * x\n",
    "\n",
    "4 == square(2)"
   ]
  },
  {
   "attachments": {},
   "cell_type": "markdown",
   "metadata": {},
   "source": [
    "We know that the square root of 2, must be less than 2 and greater than 1. Given this, we can search in the interval (1, 2) for any number whos square is 2!"
   ]
  },
  {
   "cell_type": "code",
   "execution_count": 3,
   "metadata": {},
   "outputs": [
    {
     "name": "stdout",
     "output_type": "stream",
     "text": [
      "number of numbers in interval = 99998\n"
     ]
    },
    {
     "data": {
      "text/plain": [
       "[1.00002, 1.00003, 1.00004, 1.00005, 1.00006]"
      ]
     },
     "execution_count": 3,
     "metadata": {},
     "output_type": "execute_result"
    }
   ],
   "source": [
    "DECIMAL_PRECISION = 5\n",
    "\n",
    "interval = [1 + (1 * 10 ** -DECIMAL_PRECISION) * n for n in range(2, 10 ** DECIMAL_PRECISION)]\n",
    "print(f\"number of numbers in interval = {len(interval)}\")\n",
    "interval[:5]"
   ]
  },
  {
   "attachments": {},
   "cell_type": "markdown",
   "metadata": {},
   "source": [
    "Next, we square every number in our interval."
   ]
  },
  {
   "cell_type": "code",
   "execution_count": 5,
   "metadata": {},
   "outputs": [
    {
     "data": {
      "text/plain": [
       "[(1.00002, 1.0000400003999999),\n",
       " (1.00003, 1.0000600009),\n",
       " (1.00004, 1.0000800016),\n",
       " (1.00005, 1.0001000025000002),\n",
       " (1.00006, 1.0001200036)]"
      ]
     },
     "execution_count": 5,
     "metadata": {},
     "output_type": "execute_result"
    }
   ],
   "source": [
    "results = []\n",
    "for candidate_square_root in interval:\n",
    "    squared_candidate = square(candidate_square_root)\n",
    "    interim_result = (candidate_square_root, squared_candidate)\n",
    "    results.append(interim_result)\n",
    "\n",
    "results[:5]"
   ]
  },
  {
   "attachments": {},
   "cell_type": "markdown",
   "metadata": {},
   "source": [
    "We then search for the number, that when two is subtracted from its square, is closest to 0. This will be the number closest to the square root of two."
   ]
  },
  {
   "cell_type": "code",
   "execution_count": 6,
   "metadata": {},
   "outputs": [
    {
     "data": {
      "text/plain": [
       "(1.41421, 1.0075900000128257e-05)"
      ]
     },
     "execution_count": 6,
     "metadata": {},
     "output_type": "execute_result"
    }
   ],
   "source": [
    "best_result = (2.0, 2.0)\n",
    "\n",
    "for result in results:\n",
    "    closeness_to_two = abs(result[1] - 2)\n",
    "    if closeness_to_two < best_result[1]:\n",
    "        best_result = (result[0], closeness_to_two)\n",
    "\n",
    "best_result"
   ]
  },
  {
   "attachments": {},
   "cell_type": "markdown",
   "metadata": {},
   "source": [
    "Lets see how close we got!"
   ]
  },
  {
   "cell_type": "code",
   "execution_count": 7,
   "metadata": {},
   "outputs": [
    {
     "data": {
      "text/plain": [
       "1.99999"
      ]
     },
     "execution_count": 7,
     "metadata": {},
     "output_type": "execute_result"
    }
   ],
   "source": [
    "round(square(best_result[0]), DECIMAL_PRECISION)"
   ]
  }
 ],
 "metadata": {
  "kernelspec": {
   "display_name": ".venv",
   "language": "python",
   "name": "python3"
  },
  "language_info": {
   "codemirror_mode": {
    "name": "ipython",
    "version": 3
   },
   "file_extension": ".py",
   "mimetype": "text/x-python",
   "name": "python",
   "nbconvert_exporter": "python",
   "pygments_lexer": "ipython3",
   "version": "3.10.2"
  },
  "orig_nbformat": 4
 },
 "nbformat": 4,
 "nbformat_minor": 2
}
